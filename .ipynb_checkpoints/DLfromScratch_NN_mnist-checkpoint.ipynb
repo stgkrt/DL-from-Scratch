{
 "cells": [
  {
   "cell_type": "markdown",
   "metadata": {},
   "source": [
    "最初はうまくいかなったので、サイトを見て修正\n",
    "    https://qiita.com/segavvy/items/6d79d0c3b4367869f4ea"
   ]
  },
  {
   "cell_type": "code",
   "execution_count": 1,
   "metadata": {},
   "outputs": [],
   "source": [
    "import sys,os\n",
    "import numpy as np\n",
    "from PIL import Image\n",
    "import pickle\n",
    "import matplotlib.pyplot as plt\n",
    "\n",
    "sys.path.append(\"/work/deep-learning-from-scratch/dataset/\")\n",
    "sys.path.append(\"/work/deep-learning-from-scratch/ch03/\")\n",
    "\n",
    "import mnist"
   ]
  },
  {
   "cell_type": "code",
   "execution_count": 27,
   "metadata": {},
   "outputs": [],
   "source": [
    "# 前の講義で出てきたものを利用\n",
    "def sigmoid(x):\n",
    "    sigmoid_range = 34.538776394910684\n",
    "    x2 = np.maximum(np.minimum(x, sigmoid_range), -sigmoid_range)\n",
    "    # シグモイド関数\n",
    "    return 1 / (1 + np.exp(-x2))\n",
    "\n",
    "def softmax(x):\n",
    "    # バッチ処理の場合xは(バッチの数, 10)の2次元配列になる。\n",
    "    # この場合、ブロードキャストを使ってうまく画像ごとに計算する必要がある。\n",
    "    if x.ndim == 2:\n",
    "        # 画像ごと（axis=1）の最大値を算出し、ブロードキャストできるよにreshape\n",
    "        c = np.max(x, axis=1).reshape(x.shape[0], 1)\n",
    "        # オーバーフロー対策で最大値を引きつつ分子を計算\n",
    "        exp_a = np.exp(x - c)\n",
    "        # 分母も画像ごと（axis=1）に合計し、ブロードキャストできるよにreshape\n",
    "        sum_exp_a = np.sum(exp_a, axis=1).reshape(x.shape[0], 1)\n",
    "        # 画像ごとに算出\n",
    "        y = exp_a / sum_exp_a\n",
    "    else:\n",
    "        # バッチ処理ではない場合は本の通りに実装\n",
    "        c = np.max(x)\n",
    "        exp_a = np.exp(x - c)  # オーバーフロー対策\n",
    "        sum_exp_a = np.sum(exp_a)\n",
    "        y = exp_a / sum_exp_a\n",
    "\n",
    "    return y"
   ]
  },
  {
   "cell_type": "code",
   "execution_count": 28,
   "metadata": {},
   "outputs": [],
   "source": [
    "def get_data():\n",
    "    (x_train, t_train), (x_test, t_test) = mnist.load_mnist(normalize=True, flatten=True, one_hot_label=False)\n",
    "    return x_test, t_test"
   ]
  },
  {
   "cell_type": "code",
   "execution_count": 40,
   "metadata": {},
   "outputs": [],
   "source": [
    "def load_sapmle_network():\n",
    "    \"\"\"サンプルの学習済み重みパラメーター取得\n",
    "\n",
    "    Returns:\n",
    "        dict: 重みとバイアスのパラメーター\n",
    "    \"\"\"\n",
    "    with open(\"sample_weight.pkl\", \"rb\") as f:\n",
    "        network = pickle.load(f)\n",
    "    return network"
   ]
  },
  {
   "cell_type": "code",
   "execution_count": 41,
   "metadata": {},
   "outputs": [],
   "source": [
    "def predict(network, x):\n",
    "    \"\"\"ニューラルネットワークによる推論\n",
    "\n",
    "    Args:\n",
    "        network (dict): 重みとバイアスのパラメーター\n",
    "        x (numpy.ndarray): ニューラルネットワークへの入力\n",
    "\n",
    "    Returns:\n",
    "        numpy.ndarray: ニューラルネットワークの出力\n",
    "    \"\"\"\n",
    "    # パラメーター取り出し\n",
    "    W1, W2, W3 = network['W1'], network['W2'], network['W3']\n",
    "    b1, b2, b3 = network['b1'], network['b2'], network['b3']\n",
    "\n",
    "    # ニューラルネットワークの計算（forward）\n",
    "    a1 = np.dot(x, W1) + b1\n",
    "    z1 = sigmoid(a1)\n",
    "\n",
    "    a2 = np.dot(z1, W2) + b2\n",
    "    z2 = sigmoid(a2)\n",
    "\n",
    "    a3 = np.dot(z2, W3) + b3\n",
    "    y = softmax(a3)\n",
    "\n",
    "    return y\n"
   ]
  },
  {
   "cell_type": "code",
   "execution_count": 49,
   "metadata": {},
   "outputs": [
    {
     "name": "stdout",
     "output_type": "stream",
     "text": [
      "Accuracy:0.9352\n"
     ]
    }
   ],
   "source": [
    "x,t = get_data()\n",
    "network = load_sapmle_network()\n",
    "\n",
    "batch_size = 100\n",
    "accuracy_cnt = 0\n",
    "\n",
    "for i in range(0, len(x), batch_size):\n",
    "    x_batch = x[i:i + batch_size]\n",
    "    y_batch = predict(network, x_batch)\n",
    "    p = np.argmax(y_batch,axis=1)\n",
    "    accuracy_cnt += np.sum(p == t[i:i+batch_size])\n",
    "print(\"Accuracy:\"+ str( float(accuracy_cnt)/len(x) ))"
   ]
  },
  {
   "cell_type": "code",
   "execution_count": null,
   "metadata": {},
   "outputs": [],
   "source": []
  },
  {
   "cell_type": "code",
   "execution_count": null,
   "metadata": {},
   "outputs": [],
   "source": []
  }
 ],
 "metadata": {
  "kernelspec": {
   "display_name": "Python 3",
   "language": "python",
   "name": "python3"
  },
  "language_info": {
   "codemirror_mode": {
    "name": "ipython",
    "version": 3
   },
   "file_extension": ".py",
   "mimetype": "text/x-python",
   "name": "python",
   "nbconvert_exporter": "python",
   "pygments_lexer": "ipython3",
   "version": "3.7.6"
  }
 },
 "nbformat": 4,
 "nbformat_minor": 4
}
